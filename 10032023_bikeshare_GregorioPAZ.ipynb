{
 "cells": [
  {
   "cell_type": "markdown",
   "id": "67b936c1-6084-495c-aa81-19e2fc8ae6ae",
   "metadata": {},
   "source": [
    "# Proyecto Bike-Share Navigate: \n",
    "## Google Data Analytics CapStone\n",
    "Autor: **Gregorio Paz**  \n",
    "E-Mail: **gregorio.paz@ gmail.com**  \n",
    "[**Linkedin:** https://www.linkedin.com/in/gregoriopaz/](https://www.linkedin.com/in/gregoriopaz/)  \n",
    "\n",
    "Fecha: Marzo-2023  \n",
    "Proyecto para certificación de Google Data Analysis  \n",
    "\n",
    "Este trabajo sigue el framework de Google Data Analytics: \n",
    "**ASK/PREPARE/PROCESS/ANALYZE/SHARE/ACT**  \n",
    "\n",
    "Para toda la manipulación de datos se utilizó **PYTHON**.  \n",
    "Desarrollo de cuadernos/notebook en **Jupyter/Markdown.**  \n",
    "Se realizó una sección en de análisis en **Excell.**  \n",
    "Además, se realizó procesamiento y análisis de data en **Google BigQuery.**  \n",
    "\n",
    "\n",
    "\n",
    "### Este trabajo se encuentra dividido de la siguiente forma:\n",
    "#### Parte 1: [Introducción](#introduccion-section)\n",
    "* Presentación de caso a resolver  \n",
    "\n",
    "#### Parte 2: [Preparación](#preparar-section)\n",
    "* Preparación de la Data\n",
    "* Procesamiento de la Data  \n",
    "\n",
    "#### Parte 3: [MS EXCELL](#excell-section)\n",
    "* Aplicación de filtros y limpieza \n",
    "* Creación de Pivot Tables y estadísticos descriptivos  \n",
    "\n",
    "#### Parte 4: [Procesamiento](#procesar-section)\n",
    "* Limpieza, filtros y agregación data para el análisis  \n",
    "\n",
    "#### Parte 5: [Análisis](#analizar-section)\n",
    "* Análisis Descriptivo  \n",
    "* Principales insights  \n",
    "\n",
    "#### Parte 6: [Visualizaciones (Share)](#visualizar-section)\n",
    "* Gráficos: Vijes promedios por día, por tipo de usuario, cantidad de viajes por día y usuario.  \n",
    "\n",
    "\n",
    "\n"
   ]
  },
  {
   "cell_type": "markdown",
   "id": "c593400b-8f10-4fa0-9ce2-34545539f3ed",
   "metadata": {},
   "source": [
    "<a id='introduccion-section'></a>\n",
    "==================================\n",
    "## PARTE 1: Introducción\n",
    "=================================="
   ]
  },
  {
   "cell_type": "markdown",
   "id": "47aed52a-40f7-43f6-8e03-56b66aac8465",
   "metadata": {},
   "source": [
    "\n",
    "### Cyclistic bike-share. \n",
    "\n",
    "Cyclistic es un programa de bicicletas compartidad de la ciudad de Chicago. [Ir a Divvy Bikes](https://divvybikes.com/).  \n",
    "\n",
    "\n",
    "El director de marketing cree que el éxito de la compañia depende de maximizar el número de membresías anuales. Además, se desea entender como los usuarios ciclistas \"casuales\" y \"miembros\" usan Cyclistic diferentemente.   \n",
    "A partir de estos insights, se pretende diseñar una estrategia de marketing para convertir usuarios \"casual\" a \"annual members\".  \n",
    "Antes de cualquier cosa, el equipo de Cyclistic executives debe aprobar las recomendaciones, las cuales deben ser respaldadas por \"insights\" convincentes, apoyados por la data y visualizaciones -gráficos.  \n",
    "Existe la hipótesis (por parte del director de marketing) que los usuarios 'Casual' son concientes del programa de membresía.  \n",
    "\n",
    "\n",
    "\n",
    "### Stakeholders:  \n",
    "\n",
    "* **The director of marketing/Manager:** Responsable del desarrollo de campañas de marketing para promover el uso de bicicletas compartidas.  \n",
    "\n",
    "\n",
    "* **Cyclistic marketing team:** Responsables de reunir, analizar, reportar data para guiar las estrategias de marketing.  \n",
    "\n",
    "* **Cyclistic executive time:** Quien decide si se aprueba o no las recomendaciones del programa de marketing.  \n",
    "\n",
    "### A resolver:  \n",
    "* ¿Cómo 'Anual Members' y 'Casual' usuarios usan el programa Cyclistic?  \n",
    "* ¿Por qué usuarios 'Casual' comprarían la membresía anual?  \n",
    "* ¿Cómo puede Ciclistic usar medios digitales para convertir usuarios 'Casual' a 'Annual Members'  \n",
    "\n",
    "Se aplicará el proceso de data análisis: ASK, PREPARE, PROCESS, ANALYSE, SHARE, ACT. Correspondiente al framework de Google Data Analytics."
   ]
  },
  {
   "cell_type": "markdown",
   "id": "09cd7123-323e-4896-a5f2-35f2b40e9339",
   "metadata": {},
   "source": [
    "<a id='preparar-section'></a>\n",
    "==================================\n",
    "## PARTE 2: Preparación de la data\n",
    "=================================="
   ]
  },
  {
   "cell_type": "markdown",
   "id": "cabbc1f9-4f42-4094-82ef-cc7cd4b9274d",
   "metadata": {},
   "source": [
    "**Ubicación de la data:**  \n",
    "Fuente de origen: [Divvy Bike - AWS ](https://divvy-tripdata.s3.amazonaws.com/index.html).\n",
    "\n",
    "**Credibilidad, Confiabilidad y Seguridad de la data:**  \n",
    "Lyft Bikes and Scooters, LLC (“Bikeshare”) opera en la ciudad de Chicago (\"City\") Divvy, servicio de bicicletas compatidas.\n",
    "Acuerdo de licencia: [Revisar aquí](https://ride.divvybikes.com/data-license-agreement)\n",
    "\n",
    "La data está almacenada en archivos de CSV, por mes. En los años anteriores también se puede encontrar por trimestres.\n",
    "Archivos se encuentran almacenada en servidores AWS.  \n",
    "\n",
    "**Archivos a utilizar:**  \n",
    "* Se trabajará el año 2022, donde se consideran 12 archivos (CSV), separados por \",\". \n",
    "* Cada archivo tiene 13 columnas correspodientes a los atributos de la data.  \n",
    "* Total tamaños los 12 archivos: **1,08 GB**. \n",
    "\n"
   ]
  },
  {
   "cell_type": "markdown",
   "id": "5317bee1-3dba-4b02-9fd7-0f9805f19d58",
   "metadata": {},
   "source": [
    "### Listado de archivos CSV a procesar:\n",
    "Los archivos fueron desscargados y fueron almacenados en equipo local.\n",
    "En el directorio actual de trabajo hay un subdirectorio /CSV, donde se encuentran.  \n",
    "Se realizó copia de seguridad de los archivos (backup) en formato Zip, en otra carpeta.\n"
   ]
  },
  {
   "cell_type": "code",
   "execution_count": 1,
   "id": "9662f5db-a18f-4661-be89-5dc404d2e95f",
   "metadata": {},
   "outputs": [
    {
     "name": "stdout",
     "output_type": "stream",
     "text": [
      "Lista de archivos: \n"
     ]
    },
    {
     "data": {
      "text/plain": [
       "['202201-divvy-tripdata.csv',\n",
       " '202202-divvy-tripdata.csv',\n",
       " '202203-divvy-tripdata.csv',\n",
       " '202204-divvy-tripdata.csv',\n",
       " '202205-divvy-tripdata.csv',\n",
       " '202206-divvy-tripdata.csv',\n",
       " '202207-divvy-tripdata.csv',\n",
       " '202208-divvy-tripdata.csv',\n",
       " '202209-divvy-tripdata.csv',\n",
       " '202210-divvy-tripdata.csv',\n",
       " '202211-divvy-tripdata.csv',\n",
       " '202212-divvy-tripdata.csv']"
      ]
     },
     "execution_count": 1,
     "metadata": {},
     "output_type": "execute_result"
    }
   ],
   "source": [
    "import pandas as pd\n",
    "import os\n",
    "\n",
    "#work_path = '/Users/goyo/workspace/DataScience/Google/8_Proyecto/CSV'\n",
    "current_dir = os.getcwd()\n",
    "dir_path = current_dir + '/CSV'\n",
    "\n",
    "files = []\n",
    "# Lectura del directorio '/CSV'\n",
    "# Se agregan a la lista solos los archivos csv\n",
    "for path in os.listdir(dir_path):\n",
    "    # verificación que sea archivo\n",
    "    if os.path.isfile(os.path.join(dir_path, path)):\n",
    "        if path.find(\"csv\") != -1:\n",
    "            files.append(path)\n",
    "\n",
    "files.sort()\n",
    "\n",
    "#lista de archivos\n",
    "print(\"Lista de archivos: \")\n",
    "files\n"
   ]
  },
  {
   "cell_type": "markdown",
   "id": "e669360a-7efd-456e-b0da-de2aca63b8ce",
   "metadata": {},
   "source": [
    "### Revisión de consistencia de cabecera de los 12 archivos\n",
    "Se verifica que todos tengan los mismos nombre de columnas"
   ]
  },
  {
   "cell_type": "code",
   "execution_count": 2,
   "id": "85241ce4-d8ac-4146-8e55-694dd6d698bb",
   "metadata": {},
   "outputs": [
    {
     "name": "stdout",
     "output_type": "stream",
     "text": [
      "Cabeceras:\n",
      "['ride_id', 'rideable_type', 'started_at', 'ended_at', 'start_station_name', 'start_station_id', 'end_station_name', 'end_station_id', 'start_lat', 'start_lng', 'end_lat', 'end_lng', 'member_casual']\n",
      "['ride_id', 'rideable_type', 'started_at', 'ended_at', 'start_station_name', 'start_station_id', 'end_station_name', 'end_station_id', 'start_lat', 'start_lng', 'end_lat', 'end_lng', 'member_casual']\n",
      "['ride_id', 'rideable_type', 'started_at', 'ended_at', 'start_station_name', 'start_station_id', 'end_station_name', 'end_station_id', 'start_lat', 'start_lng', 'end_lat', 'end_lng', 'member_casual']\n",
      "['ride_id', 'rideable_type', 'started_at', 'ended_at', 'start_station_name', 'start_station_id', 'end_station_name', 'end_station_id', 'start_lat', 'start_lng', 'end_lat', 'end_lng', 'member_casual']\n",
      "['ride_id', 'rideable_type', 'started_at', 'ended_at', 'start_station_name', 'start_station_id', 'end_station_name', 'end_station_id', 'start_lat', 'start_lng', 'end_lat', 'end_lng', 'member_casual']\n",
      "['ride_id', 'rideable_type', 'started_at', 'ended_at', 'start_station_name', 'start_station_id', 'end_station_name', 'end_station_id', 'start_lat', 'start_lng', 'end_lat', 'end_lng', 'member_casual']\n",
      "['ride_id', 'rideable_type', 'started_at', 'ended_at', 'start_station_name', 'start_station_id', 'end_station_name', 'end_station_id', 'start_lat', 'start_lng', 'end_lat', 'end_lng', 'member_casual']\n",
      "['ride_id', 'rideable_type', 'started_at', 'ended_at', 'start_station_name', 'start_station_id', 'end_station_name', 'end_station_id', 'start_lat', 'start_lng', 'end_lat', 'end_lng', 'member_casual']\n",
      "['ride_id', 'rideable_type', 'started_at', 'ended_at', 'start_station_name', 'start_station_id', 'end_station_name', 'end_station_id', 'start_lat', 'start_lng', 'end_lat', 'end_lng', 'member_casual']\n",
      "['ride_id', 'rideable_type', 'started_at', 'ended_at', 'start_station_name', 'start_station_id', 'end_station_name', 'end_station_id', 'start_lat', 'start_lng', 'end_lat', 'end_lng', 'member_casual']\n",
      "['ride_id', 'rideable_type', 'started_at', 'ended_at', 'start_station_name', 'start_station_id', 'end_station_name', 'end_station_id', 'start_lat', 'start_lng', 'end_lat', 'end_lng', 'member_casual']\n",
      "['ride_id', 'rideable_type', 'started_at', 'ended_at', 'start_station_name', 'start_station_id', 'end_station_name', 'end_station_id', 'start_lat', 'start_lng', 'end_lat', 'end_lng', 'member_casual']\n"
     ]
    }
   ],
   "source": [
    "#Inspección visual de nombres de las columnas\n",
    "cabeceras = []\n",
    "print(\"Cabeceras:\")\n",
    "\n",
    "for file in files:\n",
    "    df = pd.read_csv(dir_path +\"/\" + file)\n",
    "    cabeceras.append(df.columns.values)\n",
    "    print(list(df.columns.values))"
   ]
  },
  {
   "cell_type": "markdown",
   "id": "91df92cc-8935-42f0-8484-a9c7734485d8",
   "metadata": {},
   "source": [
    "### Comprobación misma cantidad de columnas  \n",
    "Se verifica que los 12 archivos tengan la misma cantidad de columnas"
   ]
  },
  {
   "cell_type": "code",
   "execution_count": 3,
   "id": "c111f935-4c59-4c0f-86e3-e10028beb5cb",
   "metadata": {},
   "outputs": [
    {
     "name": "stdout",
     "output_type": "stream",
     "text": [
      "13\n",
      "13\n",
      "13\n",
      "13\n",
      "13\n",
      "13\n",
      "13\n",
      "13\n",
      "13\n",
      "13\n",
      "13\n",
      "13\n"
     ]
    }
   ],
   "source": [
    "for head in cabeceras:\n",
    "    print(len(head))\n"
   ]
  },
  {
   "cell_type": "markdown",
   "id": "1bd61749-cacd-4fe7-aa8e-dadab23e8381",
   "metadata": {},
   "source": [
    "### Consistencia en nombre de columnas (o series)\n",
    "Se verifica que los 12 archivos tengan los mismos nombres de columnas.  \n",
    "Se chequea uno por uno."
   ]
  },
  {
   "cell_type": "code",
   "execution_count": 4,
   "id": "cb1a3049-f23d-40bf-b6bc-7f2b4ee6eccf",
   "metadata": {},
   "outputs": [
    {
     "name": "stdout",
     "output_type": "stream",
     "text": [
      "Archivo: 1 OK\n",
      "Archivo: 2 OK\n",
      "Archivo: 3 OK\n",
      "Archivo: 4 OK\n",
      "Archivo: 5 OK\n",
      "Archivo: 6 OK\n",
      "Archivo: 7 OK\n",
      "Archivo: 8 OK\n",
      "Archivo: 9 OK\n",
      "Archivo: 10 OK\n",
      "Archivo: 11 OK\n",
      "Archivo: 12 OK\n"
     ]
    }
   ],
   "source": [
    "#Se toma el primer archivo como referencia de nombres de columna para comparar\n",
    "head_ref= cabeceras[0]\n",
    "\n",
    "for i in range(len(cabeceras)):\n",
    "    len_head= len(head)\n",
    "    consistencia= \"Archivo: \" + str(i+1) + \" OK\"\n",
    "\n",
    "    #comparación de nombres de columnas/series\n",
    "    for j in range(len(head)):\n",
    "        if head_ref[j] != head[j]:\n",
    "            print(\"Inconsistencia de nombres de columnas encontrada\")\n",
    "            consistencia=  \"Problema con el archivo: \" + str(i+1)\n",
    "            #print(\"\\n Problema con el archivo: \" + str(i+1))\n",
    "\n",
    "    print(consistencia)"
   ]
  },
  {
   "cell_type": "markdown",
   "id": "fc66d8ad-db81-41c2-9f4c-1a566fcba729",
   "metadata": {},
   "source": [
    "### Agrupamos por trimestres\n",
    "Se unen los archivos (merge), para obtener 4 archivos (por trimestres) y luego trabajarlos en excell.\n"
   ]
  },
  {
   "cell_type": "code",
   "execution_count": 5,
   "id": "7281cb89-142f-45a0-9e68-179a1f5c1090",
   "metadata": {},
   "outputs": [
    {
     "name": "stdout",
     "output_type": "stream",
     "text": [
      "Generado: /Users/goyo/workspace/DataScience/Google/8_Proyecto/CSV/quarters/Q1-2022-divvy-tripdata.csv\n",
      "Generado: /Users/goyo/workspace/DataScience/Google/8_Proyecto/CSV/quarters/Q2-2022-divvy-tripdata.csv\n",
      "Generado: /Users/goyo/workspace/DataScience/Google/8_Proyecto/CSV/quarters/Q3-2022-divvy-tripdata.csv\n",
      "Generado: /Users/goyo/workspace/DataScience/Google/8_Proyecto/CSV/quarters/Q4-2022-divvy-tripdata.csv\n",
      "Archivos trimestrales generados\n"
     ]
    }
   ],
   "source": [
    "i = 0\n",
    "# lista de archivos por trimestre\n",
    "files_q = []\n",
    "data_bike = \"\"\n",
    "\n",
    "for file in files:\n",
    "    i = i+1\n",
    "    files_q.append(dir_path + \"/\" + file)\n",
    "\n",
    "    # cuando se han leido 4 archivos se genera trimestre: Q1..Q4\n",
    "    if (i % 3) == 0:\n",
    "        data_bike = pd.concat( map(pd.read_csv, files_q), ignore_index=True )\n",
    "\n",
    "        # Número trimestre\n",
    "        q = i // 3\n",
    "        # nombre archivo Qx-2022-2022-divvy-tripdata.csv\n",
    "        file_out = dir_path + \"/quarters/Q\" + str(q) + \"-2022-divvy-tripdata.csv\"\n",
    "\n",
    "        # se guarda en directorio de trabajo actual\n",
    "        data_bike.to_csv(file_out)\n",
    "        print(\"Generado: \" + file_out)\n",
    "        data_bike = \"\"\n",
    "        files_q = []\n",
    "\n",
    "\n",
    "print(\"Archivos trimestrales generados\")\n"
   ]
  },
  {
   "cell_type": "markdown",
   "id": "5caa0687-7bb6-43f4-82c8-faf16b030fcc",
   "metadata": {},
   "source": [
    "<a id='excell-section'></a>\n",
    "==================================\n",
    "### PARTE 3: MS EXCELL\n",
    "==================================  \n",
    "\n",
    "**Excell:** para abrir csv, inspencionar de forma rápida y visual la data. También se utilizará para el desarrollo del proyecto según lo indicado: limpieza, creación de filtros, Pivot Tables, funciones de agregamiento, entre otras.  \n"
   ]
  },
  {
   "cell_type": "markdown",
   "id": "95733105-f8dd-4eff-a46a-124527f370d5",
   "metadata": {},
   "source": [
    "### Cálculo ride_lenght (largo viaje) y week_day \n",
    "\n",
    "Usando los archivos por trimestre: Q1, Q2, Q3, Q4.  \n",
    "Se creó nueva columna y se calculó largo de ride y día de la semana.\n",
    "Se creó *tabla dinámica* (pivot table) para calcular datos agregados de:  \n",
    "* Tipo de bicicleta: cantidad de viajes por cada día de la semana, % que representan\n",
    "* Tipo usuarios: membresía anual, usuario casual, cantidad de viajes.\n",
    "Tiempos de viaje: promedio, máximo de cada uno.\n"
   ]
  },
  {
   "cell_type": "markdown",
   "id": "25983176-6834-49f1-bcd6-47aac4ee12bd",
   "metadata": {},
   "source": [
    "<a id='procesar-section'></a>\n",
    "====================================\n",
    "## PARTE 4: Procesamiento\n",
    "====================================  \n",
    "Siguiendo las instrucciones proporcionadas por el curso (originalmente las operaciones en R).\n",
    "\n",
    "Limpieza y agregación de la data para preparar el Análisis."
   ]
  },
  {
   "cell_type": "markdown",
   "id": "807ecbc3-8752-40ad-ac63-d992e36dc985",
   "metadata": {},
   "source": [
    "### Hacemos Merge para obtener archivo anual\n",
    "Se une Q1, Q2, Q3, Q4"
   ]
  },
  {
   "cell_type": "code",
   "execution_count": 6,
   "id": "6521d723-b6e5-46e3-a108-98d137ea89a8",
   "metadata": {},
   "outputs": [
    {
     "name": "stdout",
     "output_type": "stream",
     "text": [
      "['Unnamed: 0', 'ride_id', 'rideable_type', 'started_at', 'ended_at', 'start_station_name', 'start_station_id', 'end_station_name', 'end_station_id', 'start_lat', 'start_lng', 'end_lat', 'end_lng', 'member_casual']\n"
     ]
    }
   ],
   "source": [
    "import pandas as pd\n",
    "import os\n",
    "current_dir = os.getcwd()\n",
    "file01 = current_dir + '/csv/quarters/Q1-2022-divvy-tripdata.csv'\n",
    "file02 = current_dir + '/csv/quarters/Q2-2022-divvy-tripdata.csv'\n",
    "file03 = current_dir + '/csv/quarters/Q3-2022-divvy-tripdata.csv'\n",
    "file04 = current_dir + '/csv/quarters/Q4-2022-divvy-tripdata.csv'\n",
    "\n",
    "files_q = [file01, file02, file03, file04]\n",
    "\n",
    "# dataframe año completo\n",
    "dfy = pd.concat( map(pd.read_csv, files_q), ignore_index=True )\n",
    "\n",
    "# nombre de las columnas\n",
    "print(list(dfy.columns.values))"
   ]
  },
  {
   "cell_type": "code",
   "execution_count": 7,
   "id": "e58fd995-b33b-4c06-a4e6-1d41811f14bc",
   "metadata": {},
   "outputs": [
    {
     "name": "stdout",
     "output_type": "stream",
     "text": [
      "5667717\n"
     ]
    }
   ],
   "source": [
    "# Cantidad de registros\n",
    "print(len(dfy.index))"
   ]
  },
  {
   "cell_type": "code",
   "execution_count": 8,
   "id": "26bbd5f4-efa7-4fd7-9087-273cc5971a49",
   "metadata": {},
   "outputs": [
    {
     "data": {
      "text/html": [
       "<div>\n",
       "<style scoped>\n",
       "    .dataframe tbody tr th:only-of-type {\n",
       "        vertical-align: middle;\n",
       "    }\n",
       "\n",
       "    .dataframe tbody tr th {\n",
       "        vertical-align: top;\n",
       "    }\n",
       "\n",
       "    .dataframe thead th {\n",
       "        text-align: right;\n",
       "    }\n",
       "</style>\n",
       "<table border=\"1\" class=\"dataframe\">\n",
       "  <thead>\n",
       "    <tr style=\"text-align: right;\">\n",
       "      <th></th>\n",
       "      <th>Unnamed: 0</th>\n",
       "      <th>ride_id</th>\n",
       "      <th>rideable_type</th>\n",
       "      <th>started_at</th>\n",
       "      <th>ended_at</th>\n",
       "      <th>start_station_name</th>\n",
       "      <th>start_station_id</th>\n",
       "      <th>end_station_name</th>\n",
       "      <th>end_station_id</th>\n",
       "      <th>start_lat</th>\n",
       "      <th>start_lng</th>\n",
       "      <th>end_lat</th>\n",
       "      <th>end_lng</th>\n",
       "      <th>member_casual</th>\n",
       "    </tr>\n",
       "  </thead>\n",
       "  <tbody>\n",
       "    <tr>\n",
       "      <th>0</th>\n",
       "      <td>0</td>\n",
       "      <td>C2F7DD78E82EC875</td>\n",
       "      <td>electric_bike</td>\n",
       "      <td>2022-01-13 11:59:47</td>\n",
       "      <td>2022-01-13 12:02:44</td>\n",
       "      <td>Glenwood Ave &amp; Touhy Ave</td>\n",
       "      <td>525</td>\n",
       "      <td>Clark St &amp; Touhy Ave</td>\n",
       "      <td>RP-007</td>\n",
       "      <td>42.012800</td>\n",
       "      <td>-87.665906</td>\n",
       "      <td>42.012560</td>\n",
       "      <td>-87.674367</td>\n",
       "      <td>casual</td>\n",
       "    </tr>\n",
       "    <tr>\n",
       "      <th>1</th>\n",
       "      <td>1</td>\n",
       "      <td>A6CF8980A652D272</td>\n",
       "      <td>electric_bike</td>\n",
       "      <td>2022-01-10 08:41:56</td>\n",
       "      <td>2022-01-10 08:46:17</td>\n",
       "      <td>Glenwood Ave &amp; Touhy Ave</td>\n",
       "      <td>525</td>\n",
       "      <td>Clark St &amp; Touhy Ave</td>\n",
       "      <td>RP-007</td>\n",
       "      <td>42.012763</td>\n",
       "      <td>-87.665967</td>\n",
       "      <td>42.012560</td>\n",
       "      <td>-87.674367</td>\n",
       "      <td>casual</td>\n",
       "    </tr>\n",
       "    <tr>\n",
       "      <th>2</th>\n",
       "      <td>2</td>\n",
       "      <td>BD0F91DFF741C66D</td>\n",
       "      <td>classic_bike</td>\n",
       "      <td>2022-01-25 04:53:40</td>\n",
       "      <td>2022-01-25 04:58:01</td>\n",
       "      <td>Sheffield Ave &amp; Fullerton Ave</td>\n",
       "      <td>TA1306000016</td>\n",
       "      <td>Greenview Ave &amp; Fullerton Ave</td>\n",
       "      <td>TA1307000001</td>\n",
       "      <td>41.925602</td>\n",
       "      <td>-87.653708</td>\n",
       "      <td>41.925330</td>\n",
       "      <td>-87.665800</td>\n",
       "      <td>member</td>\n",
       "    </tr>\n",
       "    <tr>\n",
       "      <th>3</th>\n",
       "      <td>3</td>\n",
       "      <td>CBB80ED419105406</td>\n",
       "      <td>classic_bike</td>\n",
       "      <td>2022-01-04 00:18:04</td>\n",
       "      <td>2022-01-04 00:33:00</td>\n",
       "      <td>Clark St &amp; Bryn Mawr Ave</td>\n",
       "      <td>KA1504000151</td>\n",
       "      <td>Paulina St &amp; Montrose Ave</td>\n",
       "      <td>TA1309000021</td>\n",
       "      <td>41.983593</td>\n",
       "      <td>-87.669154</td>\n",
       "      <td>41.961507</td>\n",
       "      <td>-87.671387</td>\n",
       "      <td>casual</td>\n",
       "    </tr>\n",
       "    <tr>\n",
       "      <th>4</th>\n",
       "      <td>4</td>\n",
       "      <td>DDC963BFDDA51EEA</td>\n",
       "      <td>classic_bike</td>\n",
       "      <td>2022-01-20 01:31:10</td>\n",
       "      <td>2022-01-20 01:37:12</td>\n",
       "      <td>Michigan Ave &amp; Jackson Blvd</td>\n",
       "      <td>TA1309000002</td>\n",
       "      <td>State St &amp; Randolph St</td>\n",
       "      <td>TA1305000029</td>\n",
       "      <td>41.877850</td>\n",
       "      <td>-87.624080</td>\n",
       "      <td>41.884621</td>\n",
       "      <td>-87.627834</td>\n",
       "      <td>member</td>\n",
       "    </tr>\n",
       "  </tbody>\n",
       "</table>\n",
       "</div>"
      ],
      "text/plain": [
       "   Unnamed: 0           ride_id  rideable_type           started_at  \\\n",
       "0           0  C2F7DD78E82EC875  electric_bike  2022-01-13 11:59:47   \n",
       "1           1  A6CF8980A652D272  electric_bike  2022-01-10 08:41:56   \n",
       "2           2  BD0F91DFF741C66D   classic_bike  2022-01-25 04:53:40   \n",
       "3           3  CBB80ED419105406   classic_bike  2022-01-04 00:18:04   \n",
       "4           4  DDC963BFDDA51EEA   classic_bike  2022-01-20 01:31:10   \n",
       "\n",
       "              ended_at             start_station_name start_station_id  \\\n",
       "0  2022-01-13 12:02:44       Glenwood Ave & Touhy Ave              525   \n",
       "1  2022-01-10 08:46:17       Glenwood Ave & Touhy Ave              525   \n",
       "2  2022-01-25 04:58:01  Sheffield Ave & Fullerton Ave     TA1306000016   \n",
       "3  2022-01-04 00:33:00       Clark St & Bryn Mawr Ave     KA1504000151   \n",
       "4  2022-01-20 01:37:12    Michigan Ave & Jackson Blvd     TA1309000002   \n",
       "\n",
       "                end_station_name end_station_id  start_lat  start_lng  \\\n",
       "0           Clark St & Touhy Ave         RP-007  42.012800 -87.665906   \n",
       "1           Clark St & Touhy Ave         RP-007  42.012763 -87.665967   \n",
       "2  Greenview Ave & Fullerton Ave   TA1307000001  41.925602 -87.653708   \n",
       "3      Paulina St & Montrose Ave   TA1309000021  41.983593 -87.669154   \n",
       "4         State St & Randolph St   TA1305000029  41.877850 -87.624080   \n",
       "\n",
       "     end_lat    end_lng member_casual  \n",
       "0  42.012560 -87.674367        casual  \n",
       "1  42.012560 -87.674367        casual  \n",
       "2  41.925330 -87.665800        member  \n",
       "3  41.961507 -87.671387        casual  \n",
       "4  41.884621 -87.627834        member  "
      ]
     },
     "execution_count": 8,
     "metadata": {},
     "output_type": "execute_result"
    }
   ],
   "source": [
    "# head\n",
    "dfy.head()"
   ]
  },
  {
   "cell_type": "code",
   "execution_count": 9,
   "id": "d4e67fef-1fce-49b8-9464-91d844af1a62",
   "metadata": {},
   "outputs": [
    {
     "data": {
      "text/html": [
       "<div>\n",
       "<style scoped>\n",
       "    .dataframe tbody tr th:only-of-type {\n",
       "        vertical-align: middle;\n",
       "    }\n",
       "\n",
       "    .dataframe tbody tr th {\n",
       "        vertical-align: top;\n",
       "    }\n",
       "\n",
       "    .dataframe thead th {\n",
       "        text-align: right;\n",
       "    }\n",
       "</style>\n",
       "<table border=\"1\" class=\"dataframe\">\n",
       "  <thead>\n",
       "    <tr style=\"text-align: right;\">\n",
       "      <th></th>\n",
       "      <th>ride_id</th>\n",
       "      <th>rideable_type</th>\n",
       "      <th>started_at</th>\n",
       "      <th>ended_at</th>\n",
       "      <th>start_station_name</th>\n",
       "      <th>start_station_id</th>\n",
       "      <th>end_station_name</th>\n",
       "      <th>end_station_id</th>\n",
       "      <th>start_lat</th>\n",
       "      <th>start_lng</th>\n",
       "      <th>end_lat</th>\n",
       "      <th>end_lng</th>\n",
       "      <th>member_casual</th>\n",
       "    </tr>\n",
       "  </thead>\n",
       "  <tbody>\n",
       "    <tr>\n",
       "      <th>0</th>\n",
       "      <td>C2F7DD78E82EC875</td>\n",
       "      <td>electric_bike</td>\n",
       "      <td>2022-01-13 11:59:47</td>\n",
       "      <td>2022-01-13 12:02:44</td>\n",
       "      <td>Glenwood Ave &amp; Touhy Ave</td>\n",
       "      <td>525</td>\n",
       "      <td>Clark St &amp; Touhy Ave</td>\n",
       "      <td>RP-007</td>\n",
       "      <td>42.012800</td>\n",
       "      <td>-87.665906</td>\n",
       "      <td>42.01256</td>\n",
       "      <td>-87.674367</td>\n",
       "      <td>casual</td>\n",
       "    </tr>\n",
       "    <tr>\n",
       "      <th>1</th>\n",
       "      <td>A6CF8980A652D272</td>\n",
       "      <td>electric_bike</td>\n",
       "      <td>2022-01-10 08:41:56</td>\n",
       "      <td>2022-01-10 08:46:17</td>\n",
       "      <td>Glenwood Ave &amp; Touhy Ave</td>\n",
       "      <td>525</td>\n",
       "      <td>Clark St &amp; Touhy Ave</td>\n",
       "      <td>RP-007</td>\n",
       "      <td>42.012763</td>\n",
       "      <td>-87.665967</td>\n",
       "      <td>42.01256</td>\n",
       "      <td>-87.674367</td>\n",
       "      <td>casual</td>\n",
       "    </tr>\n",
       "    <tr>\n",
       "      <th>2</th>\n",
       "      <td>BD0F91DFF741C66D</td>\n",
       "      <td>classic_bike</td>\n",
       "      <td>2022-01-25 04:53:40</td>\n",
       "      <td>2022-01-25 04:58:01</td>\n",
       "      <td>Sheffield Ave &amp; Fullerton Ave</td>\n",
       "      <td>TA1306000016</td>\n",
       "      <td>Greenview Ave &amp; Fullerton Ave</td>\n",
       "      <td>TA1307000001</td>\n",
       "      <td>41.925602</td>\n",
       "      <td>-87.653708</td>\n",
       "      <td>41.92533</td>\n",
       "      <td>-87.665800</td>\n",
       "      <td>member</td>\n",
       "    </tr>\n",
       "  </tbody>\n",
       "</table>\n",
       "</div>"
      ],
      "text/plain": [
       "            ride_id  rideable_type           started_at             ended_at  \\\n",
       "0  C2F7DD78E82EC875  electric_bike  2022-01-13 11:59:47  2022-01-13 12:02:44   \n",
       "1  A6CF8980A652D272  electric_bike  2022-01-10 08:41:56  2022-01-10 08:46:17   \n",
       "2  BD0F91DFF741C66D   classic_bike  2022-01-25 04:53:40  2022-01-25 04:58:01   \n",
       "\n",
       "              start_station_name start_station_id  \\\n",
       "0       Glenwood Ave & Touhy Ave              525   \n",
       "1       Glenwood Ave & Touhy Ave              525   \n",
       "2  Sheffield Ave & Fullerton Ave     TA1306000016   \n",
       "\n",
       "                end_station_name end_station_id  start_lat  start_lng  \\\n",
       "0           Clark St & Touhy Ave         RP-007  42.012800 -87.665906   \n",
       "1           Clark St & Touhy Ave         RP-007  42.012763 -87.665967   \n",
       "2  Greenview Ave & Fullerton Ave   TA1307000001  41.925602 -87.653708   \n",
       "\n",
       "    end_lat    end_lng member_casual  \n",
       "0  42.01256 -87.674367        casual  \n",
       "1  42.01256 -87.674367        casual  \n",
       "2  41.92533 -87.665800        member  "
      ]
     },
     "execution_count": 9,
     "metadata": {},
     "output_type": "execute_result"
    }
   ],
   "source": [
    "# Se elimina primera colunma (Unnamed 0), indice creado por pandas\n",
    "del dfy['Unnamed: 0']\n",
    "dfy.head(3)"
   ]
  },
  {
   "cell_type": "markdown",
   "id": "7d0aec6a-7ca0-478f-a464-a801b2c239c6",
   "metadata": {},
   "source": [
    "### Información sobre el dataframe  \n",
    "\n",
    "* Tamaño, cantidad de filas, columnas, dimensiones.  \n",
    "* Estructura, tipos de datos de sus series/columnas.  \n"
   ]
  },
  {
   "cell_type": "code",
   "execution_count": 10,
   "id": "b920ad93-94a7-47ef-bb97-3d06104a6abc",
   "metadata": {},
   "outputs": [
    {
     "data": {
      "text/plain": [
       "73680321"
      ]
     },
     "execution_count": 10,
     "metadata": {},
     "output_type": "execute_result"
    }
   ],
   "source": [
    "# dataframe.size (cantidad de elementos totales en la data)\n",
    "dfy.size"
   ]
  },
  {
   "cell_type": "code",
   "execution_count": 11,
   "id": "bd723e29-f74a-439e-98b0-d74cc559d863",
   "metadata": {},
   "outputs": [
    {
     "data": {
      "text/plain": [
       "(5667717, 13)"
      ]
     },
     "execution_count": 11,
     "metadata": {},
     "output_type": "execute_result"
    }
   ],
   "source": [
    "# dataframe.shape (cantidad de filas, columnas)\n",
    "dfy.shape"
   ]
  },
  {
   "cell_type": "code",
   "execution_count": 12,
   "id": "3eb30bda-abe9-4253-8185-9b20127c042d",
   "metadata": {},
   "outputs": [
    {
     "data": {
      "text/plain": [
       "2"
      ]
     },
     "execution_count": 12,
     "metadata": {},
     "output_type": "execute_result"
    }
   ],
   "source": [
    "# dataframe.ndim Dimensiones\n",
    "dfy.ndim"
   ]
  },
  {
   "cell_type": "code",
   "execution_count": 13,
   "id": "10ece038-b275-4d4d-88db-07a97855ef25",
   "metadata": {},
   "outputs": [
    {
     "name": "stdout",
     "output_type": "stream",
     "text": [
      "<class 'pandas.core.frame.DataFrame'>\n",
      "RangeIndex: 5667717 entries, 0 to 5667716\n",
      "Data columns (total 13 columns):\n",
      " #   Column              Dtype  \n",
      "---  ------              -----  \n",
      " 0   ride_id             object \n",
      " 1   rideable_type       object \n",
      " 2   started_at          object \n",
      " 3   ended_at            object \n",
      " 4   start_station_name  object \n",
      " 5   start_station_id    object \n",
      " 6   end_station_name    object \n",
      " 7   end_station_id      object \n",
      " 8   start_lat           float64\n",
      " 9   start_lng           float64\n",
      " 10  end_lat             float64\n",
      " 11  end_lng             float64\n",
      " 12  member_casual       object \n",
      "dtypes: float64(4), object(9)\n",
      "memory usage: 562.1+ MB\n"
     ]
    }
   ],
   "source": [
    "# Información sobre la estructura del dataframe\n",
    "\n",
    "# Lista de nombre de columnas, sus tipos de datos, cantidad de registros, memoria usada\n",
    "dfy.info(verbose = True)"
   ]
  },
  {
   "cell_type": "code",
   "execution_count": 14,
   "id": "98665723-bdb1-4813-bf35-5f875df23f0d",
   "metadata": {},
   "outputs": [
    {
     "data": {
      "text/plain": [
       "['casual', 'member']"
      ]
     },
     "execution_count": 14,
     "metadata": {},
     "output_type": "execute_result"
    }
   ],
   "source": [
    "# tipos de Membresía\n",
    "dfy['member_casual'].unique().tolist()"
   ]
  },
  {
   "cell_type": "markdown",
   "id": "76a2c86c-1ca2-450e-bb43-23496235ba84",
   "metadata": {},
   "source": [
    "### Se crean nuevas columnas para: \n",
    "* Mes, día, año (3 columnas) \n",
    "* Día de la semana (númerico: 0..7)  \n",
    "* Largo de cada viaje  \n",
    "\n",
    "También se convierten started_at, ended_at a datetime"
   ]
  },
  {
   "cell_type": "code",
   "execution_count": 15,
   "id": "e6b6a190-6564-4e44-9707-9bf8415c29f6",
   "metadata": {},
   "outputs": [
    {
     "name": "stdout",
     "output_type": "stream",
     "text": [
      "<class 'pandas.core.frame.DataFrame'>\n",
      "RangeIndex: 5667717 entries, 0 to 5667716\n",
      "Data columns (total 2 columns):\n",
      " #   Column      Dtype         \n",
      "---  ------      -----         \n",
      " 0   started_at  datetime64[ns]\n",
      " 1   ended_at    datetime64[ns]\n",
      "dtypes: datetime64[ns](2)\n",
      "memory usage: 86.5 MB\n"
     ]
    }
   ],
   "source": [
    "# cast string to datetime\n",
    "dfy['started_at'] = pd.to_datetime(dfy['started_at'])\n",
    "dfy['ended_at'] = pd.to_datetime(dfy['ended_at'])\n",
    "\n",
    "dfy[['started_at', 'ended_at']].info(verbose = True)"
   ]
  },
  {
   "cell_type": "code",
   "execution_count": 16,
   "id": "e20ac3c6-1281-4a36-88a2-35ba35ff8309",
   "metadata": {},
   "outputs": [
    {
     "data": {
      "text/html": [
       "<div>\n",
       "<style scoped>\n",
       "    .dataframe tbody tr th:only-of-type {\n",
       "        vertical-align: middle;\n",
       "    }\n",
       "\n",
       "    .dataframe tbody tr th {\n",
       "        vertical-align: top;\n",
       "    }\n",
       "\n",
       "    .dataframe thead th {\n",
       "        text-align: right;\n",
       "    }\n",
       "</style>\n",
       "<table border=\"1\" class=\"dataframe\">\n",
       "  <thead>\n",
       "    <tr style=\"text-align: right;\">\n",
       "      <th></th>\n",
       "      <th>ride_id</th>\n",
       "      <th>rideable_type</th>\n",
       "      <th>year</th>\n",
       "      <th>month</th>\n",
       "      <th>day</th>\n",
       "      <th>week_day</th>\n",
       "      <th>started_at</th>\n",
       "      <th>ended_at</th>\n",
       "      <th>start_station_name</th>\n",
       "      <th>start_station_id</th>\n",
       "      <th>end_station_name</th>\n",
       "      <th>end_station_id</th>\n",
       "      <th>start_lat</th>\n",
       "      <th>start_lng</th>\n",
       "      <th>end_lat</th>\n",
       "      <th>end_lng</th>\n",
       "      <th>member_casual</th>\n",
       "    </tr>\n",
       "  </thead>\n",
       "  <tbody>\n",
       "    <tr>\n",
       "      <th>0</th>\n",
       "      <td>C2F7DD78E82EC875</td>\n",
       "      <td>electric_bike</td>\n",
       "      <td>2022</td>\n",
       "      <td>1</td>\n",
       "      <td>13</td>\n",
       "      <td>3</td>\n",
       "      <td>2022-01-13 11:59:47</td>\n",
       "      <td>2022-01-13 12:02:44</td>\n",
       "      <td>Glenwood Ave &amp; Touhy Ave</td>\n",
       "      <td>525</td>\n",
       "      <td>Clark St &amp; Touhy Ave</td>\n",
       "      <td>RP-007</td>\n",
       "      <td>42.012800</td>\n",
       "      <td>-87.665906</td>\n",
       "      <td>42.01256</td>\n",
       "      <td>-87.674367</td>\n",
       "      <td>casual</td>\n",
       "    </tr>\n",
       "    <tr>\n",
       "      <th>1</th>\n",
       "      <td>A6CF8980A652D272</td>\n",
       "      <td>electric_bike</td>\n",
       "      <td>2022</td>\n",
       "      <td>1</td>\n",
       "      <td>10</td>\n",
       "      <td>0</td>\n",
       "      <td>2022-01-10 08:41:56</td>\n",
       "      <td>2022-01-10 08:46:17</td>\n",
       "      <td>Glenwood Ave &amp; Touhy Ave</td>\n",
       "      <td>525</td>\n",
       "      <td>Clark St &amp; Touhy Ave</td>\n",
       "      <td>RP-007</td>\n",
       "      <td>42.012763</td>\n",
       "      <td>-87.665967</td>\n",
       "      <td>42.01256</td>\n",
       "      <td>-87.674367</td>\n",
       "      <td>casual</td>\n",
       "    </tr>\n",
       "    <tr>\n",
       "      <th>2</th>\n",
       "      <td>BD0F91DFF741C66D</td>\n",
       "      <td>classic_bike</td>\n",
       "      <td>2022</td>\n",
       "      <td>1</td>\n",
       "      <td>25</td>\n",
       "      <td>1</td>\n",
       "      <td>2022-01-25 04:53:40</td>\n",
       "      <td>2022-01-25 04:58:01</td>\n",
       "      <td>Sheffield Ave &amp; Fullerton Ave</td>\n",
       "      <td>TA1306000016</td>\n",
       "      <td>Greenview Ave &amp; Fullerton Ave</td>\n",
       "      <td>TA1307000001</td>\n",
       "      <td>41.925602</td>\n",
       "      <td>-87.653708</td>\n",
       "      <td>41.92533</td>\n",
       "      <td>-87.665800</td>\n",
       "      <td>member</td>\n",
       "    </tr>\n",
       "  </tbody>\n",
       "</table>\n",
       "</div>"
      ],
      "text/plain": [
       "            ride_id  rideable_type  year  month  day  week_day  \\\n",
       "0  C2F7DD78E82EC875  electric_bike  2022      1   13         3   \n",
       "1  A6CF8980A652D272  electric_bike  2022      1   10         0   \n",
       "2  BD0F91DFF741C66D   classic_bike  2022      1   25         1   \n",
       "\n",
       "           started_at            ended_at             start_station_name  \\\n",
       "0 2022-01-13 11:59:47 2022-01-13 12:02:44       Glenwood Ave & Touhy Ave   \n",
       "1 2022-01-10 08:41:56 2022-01-10 08:46:17       Glenwood Ave & Touhy Ave   \n",
       "2 2022-01-25 04:53:40 2022-01-25 04:58:01  Sheffield Ave & Fullerton Ave   \n",
       "\n",
       "  start_station_id               end_station_name end_station_id  start_lat  \\\n",
       "0              525           Clark St & Touhy Ave         RP-007  42.012800   \n",
       "1              525           Clark St & Touhy Ave         RP-007  42.012763   \n",
       "2     TA1306000016  Greenview Ave & Fullerton Ave   TA1307000001  41.925602   \n",
       "\n",
       "   start_lng   end_lat    end_lng member_casual  \n",
       "0 -87.665906  42.01256 -87.674367        casual  \n",
       "1 -87.665967  42.01256 -87.674367        casual  \n",
       "2 -87.653708  41.92533 -87.665800        member  "
      ]
     },
     "execution_count": 16,
     "metadata": {},
     "output_type": "execute_result"
    }
   ],
   "source": [
    "# Se agrega año, mes, día y a que dia de la semana corresponde la fecha\n",
    "dfy.insert(2, 'year', dfy['started_at'].dt.year)\n",
    "dfy.insert(3, 'month', dfy['started_at'].dt.month)\n",
    "dfy.insert(4, 'day', dfy['started_at'].dt.day)\n",
    "dfy.insert(5, 'week_day', dfy['started_at'].dt.dayofweek)\n",
    "\n",
    "dfy.head(3)"
   ]
  },
  {
   "cell_type": "code",
   "execution_count": 17,
   "id": "92fba8cc-02af-4d65-a2ef-38325a98233f",
   "metadata": {},
   "outputs": [],
   "source": [
    "# Se crea lenght_ride y calcula largo del viaje (en segundos)\n",
    "dfy.insert(6, 'lenght_ride', dfy['ended_at'] - dfy['started_at'] )"
   ]
  },
  {
   "cell_type": "code",
   "execution_count": 18,
   "id": "c6ae3254-758e-45a2-b125-132f43f61e97",
   "metadata": {
    "tags": []
   },
   "outputs": [
    {
     "name": "stdout",
     "output_type": "stream",
     "text": [
      "int64\n"
     ]
    },
    {
     "data": {
      "text/plain": [
       "0    177\n",
       "1    261\n",
       "2    261\n",
       "3    896\n",
       "4    362\n",
       "Name: lenght_ride, dtype: int64"
      ]
     },
     "execution_count": 18,
     "metadata": {},
     "output_type": "execute_result"
    }
   ],
   "source": [
    "# Se convirte largo de viaje a numérico\n",
    "# Cast lenght_ride 'timedelta' to int. Viajes en segundos\n",
    "dfy['lenght_ride'] = dfy['lenght_ride'].dt.total_seconds().astype('int64')\n",
    "\n",
    "print(dfy['lenght_ride'].dtypes)\n",
    "\n",
    "dfy['lenght_ride'].head(5)"
   ]
  },
  {
   "cell_type": "markdown",
   "id": "e0f2e8d4-ae2d-468d-9727-903e3beacfa2",
   "metadata": {},
   "source": [
    "<a id='analizar-section'></a>\n",
    "=======================================================\n",
    "## PARTE 5: ANALISIS\n",
    "======================================================="
   ]
  },
  {
   "cell_type": "markdown",
   "id": "953fca3e-58f0-4ed8-b995-e28342e91319",
   "metadata": {},
   "source": [
    "**Eliminación de viajes de distancia negativa y viajes que duran menos de 45 segundos**  \n",
    "Cuando se saca una bicicleta rara vez el viaje durará menos de un minuto.\n",
    "\n"
   ]
  },
  {
   "cell_type": "code",
   "execution_count": 19,
   "id": "3fa530fa-e7c3-4c2e-a3cf-09b2e39e2cca",
   "metadata": {},
   "outputs": [
    {
     "name": "stdout",
     "output_type": "stream",
     "text": [
      "Menores 45: 103,448\n",
      "Registros mayores a 45: 5,565,704\n"
     ]
    }
   ],
   "source": [
    "#Eliminamos todos los viajes que sean menos de 30segundos\n",
    "\n",
    "nbad = dfy[(dfy['lenght_ride'] <= 45)]\n",
    "print(\"Menores 45: \" + f\"{len(nbad.axes[0]) :,}\" )\n",
    "#len(dfy2.axes[0])\n",
    "\n",
    "#nuevo df con todos los registros maores de 45seg de viaje\n",
    "dfy2 = dfy.loc[dfy['lenght_ride'] >= 45]\n",
    "print(\"Registros mayores a 45: \" + f\"{len(dfy2.axes[0]):,}\" )\n"
   ]
  },
  {
   "cell_type": "code",
   "execution_count": 20,
   "id": "30a5aa26-0ef8-4abb-bfed-a82c5b55ba52",
   "metadata": {},
   "outputs": [
    {
     "name": "stdout",
     "output_type": "stream",
     "text": [
      "Total registros: 4,709,716\n"
     ]
    }
   ],
   "source": [
    "#Filtro: se eliminan los registros end_station_name= NaN y end_lat= Nan\n",
    "dfy3 = dfy2[dfy2['end_station_name'].notna() & dfy2['end_lat'].notna()]\n",
    "\n",
    "print(\"Total registros: \" + f\"{len(dfy3.axes[0]):,}\" )"
   ]
  },
  {
   "cell_type": "markdown",
   "id": "3a3cc2a0-6c52-4ada-bfd1-e17da02a2087",
   "metadata": {},
   "source": [
    "**Análisis descriptivo de Lenght_ride**\n",
    "* Se calcula: Media, mediana, max, min, para el largo de viaje."
   ]
  },
  {
   "cell_type": "code",
   "execution_count": 21,
   "id": "84ff50f7-ca5e-410d-9177-251d5666b305",
   "metadata": {},
   "outputs": [
    {
     "name": "stdout",
     "output_type": "stream",
     "text": [
      "\n",
      "Valores en segundos\n",
      "Media, mediana, max, min: 1022.56, 642.0, 2061244, 45\n"
     ]
    }
   ],
   "source": [
    "mean = dfy3['lenght_ride'].mean()\n",
    "median = dfy3['lenght_ride'].median()\n",
    "max = dfy3['lenght_ride'].max()\n",
    "min =dfy3['lenght_ride'].min()\n",
    "print(\"\\nValores en segundos\")\n",
    "print(\"Media, mediana, max, min: \" + str(round(mean, 2)) + \", \" + str(median) + \", \" + str(max) + \", \" + str(min))"
   ]
  },
  {
   "cell_type": "markdown",
   "id": "7a322966-7220-486a-be19-46a326883751",
   "metadata": {},
   "source": [
    "**Estadísticos descriptivos para lenght_ride:**  \n",
    "* count, mean, std, min, 25%, 50%, 75%, max\n"
   ]
  },
  {
   "cell_type": "code",
   "execution_count": 22,
   "id": "e40026f8-5bc8-4abe-bb51-ab086ff0024a",
   "metadata": {},
   "outputs": [
    {
     "data": {
      "text/plain": [
       "count    4709716.00\n",
       "mean        1022.56\n",
       "std         2777.23\n",
       "min           45.00\n",
       "25%          372.00\n",
       "50%          642.00\n",
       "75%         1139.00\n",
       "max      2061244.00\n",
       "Name: lenght_ride, dtype: float64"
      ]
     },
     "execution_count": 22,
     "metadata": {},
     "output_type": "execute_result"
    }
   ],
   "source": [
    "# Descriptivos lenght ride\n",
    "round(dfy3['lenght_ride'].describe(), 2)"
   ]
  },
  {
   "cell_type": "markdown",
   "id": "6e217521-4ebd-4a78-9c92-1e699b2be63b",
   "metadata": {},
   "source": [
    "### Comparación entre Members vs Casual users\n",
    "Funciones de agregaciones, Group by"
   ]
  },
  {
   "cell_type": "code",
   "execution_count": 23,
   "id": "51054fd7-cb2c-40dc-83e5-9875ce0649fb",
   "metadata": {},
   "outputs": [
    {
     "name": "stdout",
     "output_type": "stream",
     "text": [
      "Mean:  member_casual\n",
      "casual    23.58\n",
      "member    12.65\n",
      "Name: lenght_ride, dtype: float64 \n",
      "\n",
      "Median:  member_casual\n",
      "casual    13.78\n",
      "member     9.13\n",
      "Name: lenght_ride, dtype: float64 \n",
      "\n",
      "Max:  member_casual\n",
      "casual    34354.07\n",
      "member     1493.23\n",
      "Name: lenght_ride, dtype: float64 \n",
      "\n",
      "Min:  member_casual\n",
      "casual    0.75\n",
      "member    0.75\n",
      "Name: lenght_ride, dtype: float64\n"
     ]
    }
   ],
   "source": [
    "# Dividido en 60, para obtener en minutos\n",
    "df01 = dfy3.groupby('member_casual')['lenght_ride'].mean() /60\n",
    "df02 = dfy3.groupby('member_casual')['lenght_ride'].median() /60\n",
    "df03 = dfy3.groupby('member_casual')['lenght_ride'].max() /60\n",
    "df04 = dfy3.groupby('member_casual')['lenght_ride'].min() /60\n",
    "\n",
    "#print(\"Mean: \", df01, \"\\n\\nMedian: \", df02, \"\\n\\nMax: \", df03, \"\\n\\nMin: \", df04)\n",
    "print(\"Mean: \", round(df01, 2), \"\\n\\nMedian: \", round(df02, 2), \"\\n\\nMax: \", round(df03, 2), \"\\n\\nMin: \", round(df04, 2))\n"
   ]
  },
  {
   "cell_type": "markdown",
   "id": "2e69d344-7103-4eda-b119-77e803c14ace",
   "metadata": {},
   "source": [
    "### Se agrupa por member_casual y week_day"
   ]
  },
  {
   "cell_type": "code",
   "execution_count": 24,
   "id": "3bf43494-57c9-4a08-94e1-302846164bc6",
   "metadata": {},
   "outputs": [
    {
     "data": {
      "text/plain": [
       "member_casual  week_day\n",
       "casual         0           24.36\n",
       "               1           21.08\n",
       "               2           20.35\n",
       "               3           21.02\n",
       "               4           22.00\n",
       "               5           26.38\n",
       "               6           26.81\n",
       "member         0           12.23\n",
       "               1           11.99\n",
       "               2           12.04\n",
       "               3           12.23\n",
       "               4           12.44\n",
       "               5           14.17\n",
       "               6           14.06\n",
       "Name: lenght_ride, dtype: float64"
      ]
     },
     "execution_count": 24,
     "metadata": {},
     "output_type": "execute_result"
    }
   ],
   "source": [
    "# /60 para obtener minutos\n",
    "round(dfy3.groupby(['member_casual','week_day'])['lenght_ride'].mean()/60, 2)\n"
   ]
  },
  {
   "cell_type": "markdown",
   "id": "cbedb9ce-885c-40ee-9c6e-4f66eeedf607",
   "metadata": {},
   "source": [
    "### Se crea nueva columna de tipo categorica para poner el nombre del día de la semana\n",
    "Se crea **day_name** de tipo categorica.  \n",
    "Se asignan categorías según columna week_day.  \n"
   ]
  },
  {
   "cell_type": "code",
   "execution_count": 25,
   "id": "9e89ba24-d93a-47cb-9d06-93a74addb1a8",
   "metadata": {},
   "outputs": [
    {
     "data": {
      "text/html": [
       "<div>\n",
       "<style scoped>\n",
       "    .dataframe tbody tr th:only-of-type {\n",
       "        vertical-align: middle;\n",
       "    }\n",
       "\n",
       "    .dataframe tbody tr th {\n",
       "        vertical-align: top;\n",
       "    }\n",
       "\n",
       "    .dataframe thead th {\n",
       "        text-align: right;\n",
       "    }\n",
       "</style>\n",
       "<table border=\"1\" class=\"dataframe\">\n",
       "  <thead>\n",
       "    <tr style=\"text-align: right;\">\n",
       "      <th></th>\n",
       "      <th>ride_id</th>\n",
       "      <th>rideable_type</th>\n",
       "      <th>year</th>\n",
       "      <th>month</th>\n",
       "      <th>day</th>\n",
       "      <th>week_day</th>\n",
       "      <th>day_name</th>\n",
       "      <th>lenght_ride</th>\n",
       "      <th>started_at</th>\n",
       "      <th>ended_at</th>\n",
       "      <th>start_station_name</th>\n",
       "      <th>start_station_id</th>\n",
       "      <th>end_station_name</th>\n",
       "      <th>end_station_id</th>\n",
       "      <th>start_lat</th>\n",
       "      <th>start_lng</th>\n",
       "      <th>end_lat</th>\n",
       "      <th>end_lng</th>\n",
       "      <th>member_casual</th>\n",
       "    </tr>\n",
       "  </thead>\n",
       "  <tbody>\n",
       "    <tr>\n",
       "      <th>0</th>\n",
       "      <td>C2F7DD78E82EC875</td>\n",
       "      <td>electric_bike</td>\n",
       "      <td>2022</td>\n",
       "      <td>1</td>\n",
       "      <td>13</td>\n",
       "      <td>3</td>\n",
       "      <td>3</td>\n",
       "      <td>177</td>\n",
       "      <td>2022-01-13 11:59:47</td>\n",
       "      <td>2022-01-13 12:02:44</td>\n",
       "      <td>Glenwood Ave &amp; Touhy Ave</td>\n",
       "      <td>525</td>\n",
       "      <td>Clark St &amp; Touhy Ave</td>\n",
       "      <td>RP-007</td>\n",
       "      <td>42.012800</td>\n",
       "      <td>-87.665906</td>\n",
       "      <td>42.01256</td>\n",
       "      <td>-87.674367</td>\n",
       "      <td>casual</td>\n",
       "    </tr>\n",
       "    <tr>\n",
       "      <th>1</th>\n",
       "      <td>A6CF8980A652D272</td>\n",
       "      <td>electric_bike</td>\n",
       "      <td>2022</td>\n",
       "      <td>1</td>\n",
       "      <td>10</td>\n",
       "      <td>0</td>\n",
       "      <td>0</td>\n",
       "      <td>261</td>\n",
       "      <td>2022-01-10 08:41:56</td>\n",
       "      <td>2022-01-10 08:46:17</td>\n",
       "      <td>Glenwood Ave &amp; Touhy Ave</td>\n",
       "      <td>525</td>\n",
       "      <td>Clark St &amp; Touhy Ave</td>\n",
       "      <td>RP-007</td>\n",
       "      <td>42.012763</td>\n",
       "      <td>-87.665967</td>\n",
       "      <td>42.01256</td>\n",
       "      <td>-87.674367</td>\n",
       "      <td>casual</td>\n",
       "    </tr>\n",
       "    <tr>\n",
       "      <th>2</th>\n",
       "      <td>BD0F91DFF741C66D</td>\n",
       "      <td>classic_bike</td>\n",
       "      <td>2022</td>\n",
       "      <td>1</td>\n",
       "      <td>25</td>\n",
       "      <td>1</td>\n",
       "      <td>1</td>\n",
       "      <td>261</td>\n",
       "      <td>2022-01-25 04:53:40</td>\n",
       "      <td>2022-01-25 04:58:01</td>\n",
       "      <td>Sheffield Ave &amp; Fullerton Ave</td>\n",
       "      <td>TA1306000016</td>\n",
       "      <td>Greenview Ave &amp; Fullerton Ave</td>\n",
       "      <td>TA1307000001</td>\n",
       "      <td>41.925602</td>\n",
       "      <td>-87.653708</td>\n",
       "      <td>41.92533</td>\n",
       "      <td>-87.665800</td>\n",
       "      <td>member</td>\n",
       "    </tr>\n",
       "  </tbody>\n",
       "</table>\n",
       "</div>"
      ],
      "text/plain": [
       "            ride_id  rideable_type  year  month  day  week_day day_name  \\\n",
       "0  C2F7DD78E82EC875  electric_bike  2022      1   13         3        3   \n",
       "1  A6CF8980A652D272  electric_bike  2022      1   10         0        0   \n",
       "2  BD0F91DFF741C66D   classic_bike  2022      1   25         1        1   \n",
       "\n",
       "   lenght_ride          started_at            ended_at  \\\n",
       "0          177 2022-01-13 11:59:47 2022-01-13 12:02:44   \n",
       "1          261 2022-01-10 08:41:56 2022-01-10 08:46:17   \n",
       "2          261 2022-01-25 04:53:40 2022-01-25 04:58:01   \n",
       "\n",
       "              start_station_name start_station_id  \\\n",
       "0       Glenwood Ave & Touhy Ave              525   \n",
       "1       Glenwood Ave & Touhy Ave              525   \n",
       "2  Sheffield Ave & Fullerton Ave     TA1306000016   \n",
       "\n",
       "                end_station_name end_station_id  start_lat  start_lng  \\\n",
       "0           Clark St & Touhy Ave         RP-007  42.012800 -87.665906   \n",
       "1           Clark St & Touhy Ave         RP-007  42.012763 -87.665967   \n",
       "2  Greenview Ave & Fullerton Ave   TA1307000001  41.925602 -87.653708   \n",
       "\n",
       "    end_lat    end_lng member_casual  \n",
       "0  42.01256 -87.674367        casual  \n",
       "1  42.01256 -87.674367        casual  \n",
       "2  41.92533 -87.665800        member  "
      ]
     },
     "execution_count": 25,
     "metadata": {},
     "output_type": "execute_result"
    }
   ],
   "source": [
    "# Se crea siguiente a la columna day_week\n",
    "dfy3.insert(6, 'day_name', dfy3[\"week_day\"].astype(\"category\"))\n",
    "dfy3.head(3)\n"
   ]
  },
  {
   "cell_type": "markdown",
   "id": "dd3ccc23-db62-4021-828d-526f84db228b",
   "metadata": {},
   "source": [
    "**Se asignan los nombres de los días a la columna categorica**"
   ]
  },
  {
   "cell_type": "code",
   "execution_count": 26,
   "id": "255d0198-971d-4e71-a6fc-3fb105627d7e",
   "metadata": {},
   "outputs": [],
   "source": [
    "%%capture --no-display\n",
    "# Asignamos Días de la semana, a la serie/columna del tipo categorica\n",
    "\n",
    "dias_semana = [\"Sunday\", \"Monday\", \"Tuesday\", \"Wednesday\", \"Thursday\", \"Friday\", \"Saturday\"]\n",
    "dfy3[\"day_name\"] = dfy3[\"day_name\"].cat.rename_categories(dias_semana)"
   ]
  },
  {
   "cell_type": "code",
   "execution_count": 27,
   "id": "e66e8b0e-5c27-4b2f-ad6c-329fffb49dd8",
   "metadata": {},
   "outputs": [
    {
     "data": {
      "text/html": [
       "<div>\n",
       "<style scoped>\n",
       "    .dataframe tbody tr th:only-of-type {\n",
       "        vertical-align: middle;\n",
       "    }\n",
       "\n",
       "    .dataframe tbody tr th {\n",
       "        vertical-align: top;\n",
       "    }\n",
       "\n",
       "    .dataframe thead th {\n",
       "        text-align: right;\n",
       "    }\n",
       "</style>\n",
       "<table border=\"1\" class=\"dataframe\">\n",
       "  <thead>\n",
       "    <tr style=\"text-align: right;\">\n",
       "      <th></th>\n",
       "      <th>ride_id</th>\n",
       "      <th>rideable_type</th>\n",
       "      <th>year</th>\n",
       "      <th>month</th>\n",
       "      <th>day</th>\n",
       "      <th>week_day</th>\n",
       "      <th>day_name</th>\n",
       "      <th>lenght_ride</th>\n",
       "      <th>started_at</th>\n",
       "      <th>ended_at</th>\n",
       "      <th>start_station_name</th>\n",
       "      <th>start_station_id</th>\n",
       "      <th>end_station_name</th>\n",
       "      <th>end_station_id</th>\n",
       "      <th>start_lat</th>\n",
       "      <th>start_lng</th>\n",
       "      <th>end_lat</th>\n",
       "      <th>end_lng</th>\n",
       "      <th>member_casual</th>\n",
       "    </tr>\n",
       "  </thead>\n",
       "  <tbody>\n",
       "    <tr>\n",
       "      <th>0</th>\n",
       "      <td>C2F7DD78E82EC875</td>\n",
       "      <td>electric_bike</td>\n",
       "      <td>2022</td>\n",
       "      <td>1</td>\n",
       "      <td>13</td>\n",
       "      <td>3</td>\n",
       "      <td>Wednesday</td>\n",
       "      <td>177</td>\n",
       "      <td>2022-01-13 11:59:47</td>\n",
       "      <td>2022-01-13 12:02:44</td>\n",
       "      <td>Glenwood Ave &amp; Touhy Ave</td>\n",
       "      <td>525</td>\n",
       "      <td>Clark St &amp; Touhy Ave</td>\n",
       "      <td>RP-007</td>\n",
       "      <td>42.012800</td>\n",
       "      <td>-87.665906</td>\n",
       "      <td>42.01256</td>\n",
       "      <td>-87.674367</td>\n",
       "      <td>casual</td>\n",
       "    </tr>\n",
       "    <tr>\n",
       "      <th>1</th>\n",
       "      <td>A6CF8980A652D272</td>\n",
       "      <td>electric_bike</td>\n",
       "      <td>2022</td>\n",
       "      <td>1</td>\n",
       "      <td>10</td>\n",
       "      <td>0</td>\n",
       "      <td>Sunday</td>\n",
       "      <td>261</td>\n",
       "      <td>2022-01-10 08:41:56</td>\n",
       "      <td>2022-01-10 08:46:17</td>\n",
       "      <td>Glenwood Ave &amp; Touhy Ave</td>\n",
       "      <td>525</td>\n",
       "      <td>Clark St &amp; Touhy Ave</td>\n",
       "      <td>RP-007</td>\n",
       "      <td>42.012763</td>\n",
       "      <td>-87.665967</td>\n",
       "      <td>42.01256</td>\n",
       "      <td>-87.674367</td>\n",
       "      <td>casual</td>\n",
       "    </tr>\n",
       "    <tr>\n",
       "      <th>2</th>\n",
       "      <td>BD0F91DFF741C66D</td>\n",
       "      <td>classic_bike</td>\n",
       "      <td>2022</td>\n",
       "      <td>1</td>\n",
       "      <td>25</td>\n",
       "      <td>1</td>\n",
       "      <td>Monday</td>\n",
       "      <td>261</td>\n",
       "      <td>2022-01-25 04:53:40</td>\n",
       "      <td>2022-01-25 04:58:01</td>\n",
       "      <td>Sheffield Ave &amp; Fullerton Ave</td>\n",
       "      <td>TA1306000016</td>\n",
       "      <td>Greenview Ave &amp; Fullerton Ave</td>\n",
       "      <td>TA1307000001</td>\n",
       "      <td>41.925602</td>\n",
       "      <td>-87.653708</td>\n",
       "      <td>41.92533</td>\n",
       "      <td>-87.665800</td>\n",
       "      <td>member</td>\n",
       "    </tr>\n",
       "  </tbody>\n",
       "</table>\n",
       "</div>"
      ],
      "text/plain": [
       "            ride_id  rideable_type  year  month  day  week_day   day_name  \\\n",
       "0  C2F7DD78E82EC875  electric_bike  2022      1   13         3  Wednesday   \n",
       "1  A6CF8980A652D272  electric_bike  2022      1   10         0     Sunday   \n",
       "2  BD0F91DFF741C66D   classic_bike  2022      1   25         1     Monday   \n",
       "\n",
       "   lenght_ride          started_at            ended_at  \\\n",
       "0          177 2022-01-13 11:59:47 2022-01-13 12:02:44   \n",
       "1          261 2022-01-10 08:41:56 2022-01-10 08:46:17   \n",
       "2          261 2022-01-25 04:53:40 2022-01-25 04:58:01   \n",
       "\n",
       "              start_station_name start_station_id  \\\n",
       "0       Glenwood Ave & Touhy Ave              525   \n",
       "1       Glenwood Ave & Touhy Ave              525   \n",
       "2  Sheffield Ave & Fullerton Ave     TA1306000016   \n",
       "\n",
       "                end_station_name end_station_id  start_lat  start_lng  \\\n",
       "0           Clark St & Touhy Ave         RP-007  42.012800 -87.665906   \n",
       "1           Clark St & Touhy Ave         RP-007  42.012763 -87.665967   \n",
       "2  Greenview Ave & Fullerton Ave   TA1307000001  41.925602 -87.653708   \n",
       "\n",
       "    end_lat    end_lng member_casual  \n",
       "0  42.01256 -87.674367        casual  \n",
       "1  42.01256 -87.674367        casual  \n",
       "2  41.92533 -87.665800        member  "
      ]
     },
     "execution_count": 27,
     "metadata": {},
     "output_type": "execute_result"
    }
   ],
   "source": [
    "dfy3.head(3)"
   ]
  },
  {
   "cell_type": "markdown",
   "id": "c9dd8ab0-4f41-4920-a06d-06d4070d72f7",
   "metadata": {},
   "source": [
    "### Se agrupa por member_casual y day_name\n"
   ]
  },
  {
   "cell_type": "code",
   "execution_count": 28,
   "id": "ece98a93-aa2d-4101-bc39-7e67d8dc3fb8",
   "metadata": {},
   "outputs": [
    {
     "data": {
      "text/plain": [
       "member_casual  day_name \n",
       "casual         Sunday       24.36\n",
       "               Monday       21.08\n",
       "               Tuesday      20.35\n",
       "               Wednesday    21.02\n",
       "               Thursday     22.00\n",
       "               Friday       26.38\n",
       "               Saturday     26.81\n",
       "member         Sunday       12.23\n",
       "               Monday       11.99\n",
       "               Tuesday      12.04\n",
       "               Wednesday    12.23\n",
       "               Thursday     12.44\n",
       "               Friday       14.17\n",
       "               Saturday     14.06\n",
       "Name: lenght_ride, dtype: float64"
      ]
     },
     "execution_count": 28,
     "metadata": {},
     "output_type": "execute_result"
    }
   ],
   "source": [
    "# Se agrupa por: member_casual y day_name. Columna categorica (nombre días de la semana)\n",
    "# /60 para obtener minutos\n",
    "round(dfy3.groupby(['member_casual','day_name'])['lenght_ride'].mean()/60, 2)\n"
   ]
  },
  {
   "cell_type": "markdown",
   "id": "99e6b862-01f3-4118-b45f-994bb582a68d",
   "metadata": {},
   "source": [
    "**Total de viajes y tiempos medios, agrupados por:**\n",
    "* Tipo miembro\n",
    "* day_name\n"
   ]
  },
  {
   "cell_type": "code",
   "execution_count": 29,
   "id": "cd3697dc-9d98-4c34-b422-b9b843667c09",
   "metadata": {},
   "outputs": [],
   "source": [
    "# Total de viajes, agrupados por tipo miembro y day_name\n",
    "\n",
    "summary = dfy3.groupby(['member_casual', 'day_name'])['lenght_ride'].agg(['mean', 'count'])\n",
    "# Se muestra en segundo y con 2 decimales\n",
    "summary['mean'] = (summary['mean'].astype('int64')/60).round(2)"
   ]
  },
  {
   "cell_type": "code",
   "execution_count": 30,
   "id": "867e28dd-ac98-49da-abe0-f6627f4c404c",
   "metadata": {},
   "outputs": [
    {
     "data": {
      "text/html": [
       "<div>\n",
       "<style scoped>\n",
       "    .dataframe tbody tr th:only-of-type {\n",
       "        vertical-align: middle;\n",
       "    }\n",
       "\n",
       "    .dataframe tbody tr th {\n",
       "        vertical-align: top;\n",
       "    }\n",
       "\n",
       "    .dataframe thead th {\n",
       "        text-align: right;\n",
       "    }\n",
       "</style>\n",
       "<table border=\"1\" class=\"dataframe\">\n",
       "  <thead>\n",
       "    <tr style=\"text-align: right;\">\n",
       "      <th></th>\n",
       "      <th>member_casual</th>\n",
       "      <th>day_name</th>\n",
       "      <th>mean</th>\n",
       "      <th>count</th>\n",
       "    </tr>\n",
       "  </thead>\n",
       "  <tbody>\n",
       "    <tr>\n",
       "      <th>0</th>\n",
       "      <td>casual</td>\n",
       "      <td>Sunday</td>\n",
       "      <td>24.35</td>\n",
       "      <td>226202</td>\n",
       "    </tr>\n",
       "    <tr>\n",
       "      <th>1</th>\n",
       "      <td>casual</td>\n",
       "      <td>Monday</td>\n",
       "      <td>21.07</td>\n",
       "      <td>211998</td>\n",
       "    </tr>\n",
       "    <tr>\n",
       "      <th>2</th>\n",
       "      <td>casual</td>\n",
       "      <td>Tuesday</td>\n",
       "      <td>20.35</td>\n",
       "      <td>220394</td>\n",
       "    </tr>\n",
       "    <tr>\n",
       "      <th>3</th>\n",
       "      <td>casual</td>\n",
       "      <td>Wednesday</td>\n",
       "      <td>21.02</td>\n",
       "      <td>249084</td>\n",
       "    </tr>\n",
       "    <tr>\n",
       "      <th>4</th>\n",
       "      <td>casual</td>\n",
       "      <td>Thursday</td>\n",
       "      <td>21.98</td>\n",
       "      <td>268953</td>\n",
       "    </tr>\n",
       "    <tr>\n",
       "      <th>5</th>\n",
       "      <td>casual</td>\n",
       "      <td>Friday</td>\n",
       "      <td>26.37</td>\n",
       "      <td>392328</td>\n",
       "    </tr>\n",
       "    <tr>\n",
       "      <th>6</th>\n",
       "      <td>casual</td>\n",
       "      <td>Saturday</td>\n",
       "      <td>26.80</td>\n",
       "      <td>321832</td>\n",
       "    </tr>\n",
       "    <tr>\n",
       "      <th>7</th>\n",
       "      <td>member</td>\n",
       "      <td>Sunday</td>\n",
       "      <td>12.22</td>\n",
       "      <td>403107</td>\n",
       "    </tr>\n",
       "    <tr>\n",
       "      <th>8</th>\n",
       "      <td>member</td>\n",
       "      <td>Monday</td>\n",
       "      <td>11.98</td>\n",
       "      <td>441873</td>\n",
       "    </tr>\n",
       "    <tr>\n",
       "      <th>9</th>\n",
       "      <td>member</td>\n",
       "      <td>Tuesday</td>\n",
       "      <td>12.03</td>\n",
       "      <td>444529</td>\n",
       "    </tr>\n",
       "    <tr>\n",
       "      <th>10</th>\n",
       "      <td>member</td>\n",
       "      <td>Wednesday</td>\n",
       "      <td>12.22</td>\n",
       "      <td>449253</td>\n",
       "    </tr>\n",
       "    <tr>\n",
       "      <th>11</th>\n",
       "      <td>member</td>\n",
       "      <td>Thursday</td>\n",
       "      <td>12.43</td>\n",
       "      <td>389659</td>\n",
       "    </tr>\n",
       "    <tr>\n",
       "      <th>12</th>\n",
       "      <td>member</td>\n",
       "      <td>Friday</td>\n",
       "      <td>14.17</td>\n",
       "      <td>367645</td>\n",
       "    </tr>\n",
       "    <tr>\n",
       "      <th>13</th>\n",
       "      <td>member</td>\n",
       "      <td>Saturday</td>\n",
       "      <td>14.05</td>\n",
       "      <td>322859</td>\n",
       "    </tr>\n",
       "  </tbody>\n",
       "</table>\n",
       "</div>"
      ],
      "text/plain": [
       "   member_casual   day_name   mean   count\n",
       "0         casual     Sunday  24.35  226202\n",
       "1         casual     Monday  21.07  211998\n",
       "2         casual    Tuesday  20.35  220394\n",
       "3         casual  Wednesday  21.02  249084\n",
       "4         casual   Thursday  21.98  268953\n",
       "5         casual     Friday  26.37  392328\n",
       "6         casual   Saturday  26.80  321832\n",
       "7         member     Sunday  12.22  403107\n",
       "8         member     Monday  11.98  441873\n",
       "9         member    Tuesday  12.03  444529\n",
       "10        member  Wednesday  12.22  449253\n",
       "11        member   Thursday  12.43  389659\n",
       "12        member     Friday  14.17  367645\n",
       "13        member   Saturday  14.05  322859"
      ]
     },
     "execution_count": 30,
     "metadata": {},
     "output_type": "execute_result"
    }
   ],
   "source": [
    "summary = summary.reset_index().sort_values(['member_casual', 'day_name'])\n",
    "summary"
   ]
  },
  {
   "cell_type": "code",
   "execution_count": 31,
   "id": "2bdbf061-f8c4-450b-a00a-c95af0ec6595",
   "metadata": {},
   "outputs": [
    {
     "data": {
      "text/html": [
       "<div>\n",
       "<style scoped>\n",
       "    .dataframe tbody tr th:only-of-type {\n",
       "        vertical-align: middle;\n",
       "    }\n",
       "\n",
       "    .dataframe tbody tr th {\n",
       "        vertical-align: top;\n",
       "    }\n",
       "\n",
       "    .dataframe thead th {\n",
       "        text-align: right;\n",
       "    }\n",
       "</style>\n",
       "<table border=\"1\" class=\"dataframe\">\n",
       "  <thead>\n",
       "    <tr style=\"text-align: right;\">\n",
       "      <th></th>\n",
       "      <th>member_casual</th>\n",
       "      <th>day_name</th>\n",
       "      <th>mean</th>\n",
       "      <th>count</th>\n",
       "    </tr>\n",
       "  </thead>\n",
       "  <tbody>\n",
       "    <tr>\n",
       "      <th>0</th>\n",
       "      <td>casual</td>\n",
       "      <td>Sunday</td>\n",
       "      <td>24.35</td>\n",
       "      <td>226202</td>\n",
       "    </tr>\n",
       "    <tr>\n",
       "      <th>1</th>\n",
       "      <td>casual</td>\n",
       "      <td>Monday</td>\n",
       "      <td>21.07</td>\n",
       "      <td>211998</td>\n",
       "    </tr>\n",
       "    <tr>\n",
       "      <th>2</th>\n",
       "      <td>casual</td>\n",
       "      <td>Tuesday</td>\n",
       "      <td>20.35</td>\n",
       "      <td>220394</td>\n",
       "    </tr>\n",
       "    <tr>\n",
       "      <th>3</th>\n",
       "      <td>casual</td>\n",
       "      <td>Wednesday</td>\n",
       "      <td>21.02</td>\n",
       "      <td>249084</td>\n",
       "    </tr>\n",
       "    <tr>\n",
       "      <th>4</th>\n",
       "      <td>casual</td>\n",
       "      <td>Thursday</td>\n",
       "      <td>21.98</td>\n",
       "      <td>268953</td>\n",
       "    </tr>\n",
       "    <tr>\n",
       "      <th>5</th>\n",
       "      <td>casual</td>\n",
       "      <td>Friday</td>\n",
       "      <td>26.37</td>\n",
       "      <td>392328</td>\n",
       "    </tr>\n",
       "    <tr>\n",
       "      <th>6</th>\n",
       "      <td>casual</td>\n",
       "      <td>Saturday</td>\n",
       "      <td>26.80</td>\n",
       "      <td>321832</td>\n",
       "    </tr>\n",
       "  </tbody>\n",
       "</table>\n",
       "</div>"
      ],
      "text/plain": [
       "  member_casual   day_name   mean   count\n",
       "0        casual     Sunday  24.35  226202\n",
       "1        casual     Monday  21.07  211998\n",
       "2        casual    Tuesday  20.35  220394\n",
       "3        casual  Wednesday  21.02  249084\n",
       "4        casual   Thursday  21.98  268953\n",
       "5        casual     Friday  26.37  392328\n",
       "6        casual   Saturday  26.80  321832"
      ]
     },
     "execution_count": 31,
     "metadata": {},
     "output_type": "execute_result"
    }
   ],
   "source": [
    "summary[summary[\"member_casual\"] == 'casual']"
   ]
  },
  {
   "cell_type": "code",
   "execution_count": 32,
   "id": "f3879231-8e3a-43b6-8df7-b50c7ff9cbb9",
   "metadata": {},
   "outputs": [],
   "source": [
    "# Total de viajes, agrupados por day_name\n",
    "summary_day = dfy3.groupby(['day_name'])['lenght_ride'].agg(['mean', 'count'])"
   ]
  },
  {
   "cell_type": "markdown",
   "id": "2697f1a7-98e1-4ed9-a72b-e1b0ce794950",
   "metadata": {},
   "source": [
    "<a id='visualiz-section'></a>\n",
    "================================\n",
    "## PARTE 6: Visualizaciones\n",
    "================================"
   ]
  },
  {
   "cell_type": "markdown",
   "id": "7be234a5-7d9e-4df5-903b-a0b435fb41a6",
   "metadata": {},
   "source": [
    "### Gráfico: Días de la semana vs cantidad de viajes"
   ]
  },
  {
   "cell_type": "code",
   "execution_count": 33,
   "id": "9a914c1f-d41f-4b50-b4e3-6032e814f73e",
   "metadata": {},
   "outputs": [
    {
     "data": {
      "image/png": "[encoded data removed]",
      "text/plain": [
       "<Figure size 640x480 with 1 Axes>"
      ]
     },
     "metadata": {},
     "output_type": "display_data"
    }
   ],
   "source": [
    "import matplotlib.pyplot as plt\n",
    "import matplotlib.ticker as mtick\n",
    "\n",
    "\n",
    "x = summary_day.index.tolist()\n",
    "y = summary_day['count']\n",
    "plt.bar(x, y, width=0.5, label='Casual', color='red', alpha=0.5)\n",
    "\n",
    "plt.xlabel('Días de la semana')\n",
    "plt.xticks(fontsize=8, color=\"blue\", rotation=25)\n",
    "\n",
    "plt.yticks(fontsize=8, color=\"blue\")\n",
    "plt.ylabel('Cantidad de viajes')\n",
    "\n",
    "# Formato de separación de miles en el eje y\n",
    "fmt = '{x:,.0f}'\n",
    "tick = mtick.StrMethodFormatter(fmt)\n",
    "plt.gca().yaxis.set_major_formatter(tick)\n",
    "\n",
    "plt.title('Cantidad de viajes por día año 2022')\n",
    "plt.show()"
   ]
  },
  {
   "cell_type": "markdown",
   "id": "4cfb3b46-289e-4031-989a-ea6c99cffa96",
   "metadata": {},
   "source": [
    "### Gráfico: Porcentajes de viajes por día "
   ]
  },
  {
   "cell_type": "code",
   "execution_count": 34,
   "id": "e128aca4-c7fe-44ac-aac3-ccb3b540b9ce",
   "metadata": {},
   "outputs": [
    {
     "data": {
      "image/png": "[encoded data removed]",
      "text/plain": [
       "<Figure size 640x480 with 1 Axes>"
      ]
     },
     "metadata": {},
     "output_type": "display_data"
    }
   ],
   "source": [
    "# Piechart\n",
    "\n",
    "fig = plt.figure()\n",
    "ax = fig.add_subplot()\n",
    "__, xtexts, autotexts = ax.pie(y, labels=x, autopct='%1.1f%%')\n",
    "\n",
    "\n",
    "# Titulos y etiquetas\n",
    "plt.title('Cantidad de viajes por día año 2022')\n",
    "plt.xlabel('Días de la semana')\n",
    "plt.ylabel('Cantidad de viajes')\n",
    "\n",
    "# Cambia el tamaño y color de %\n",
    "for autotext in autotexts:\n",
    "    autotext.set_color('white')\n",
    "    autotext.set_fontsize(9)\n",
    "\n",
    "# Cambia el tamaño y color de las etiquetas (días)\n",
    "for xtext in xtexts:\n",
    "    xtext.set_color('blue')\n",
    "    xtext.set_fontsize(9)\n",
    "    xtext.set_rotation(25)\n",
    "\n",
    "plt.show()\n"
   ]
  },
  {
   "cell_type": "markdown",
   "id": "9b4ed6a5-a2f5-46af-b4df-4b18382768d5",
   "metadata": {},
   "source": [
    "### Gráfico: Tiempos promedios de viaje año 2022"
   ]
  },
  {
   "cell_type": "code",
   "execution_count": 35,
   "id": "78f27d1c-41b3-45fb-84fa-28518ad36e4a",
   "metadata": {},
   "outputs": [
    {
     "data": {
      "image/png": "[encoded data removed]",
      "text/plain": [
       "<Figure size 640x480 with 1 Axes>"
      ]
     },
     "metadata": {},
     "output_type": "display_data"
    }
   ],
   "source": [
    "x = summary_day.index.tolist()\n",
    "y = round(summary_day['mean']/60,2)\n",
    "plt.bar(x, y, width=0.5, label='Casual', color='green', alpha=0.5)\n",
    "\n",
    "plt.xlabel('Días de la semana')\n",
    "plt.xticks(fontsize=8, color=\"blue\", rotation=25)\n",
    "\n",
    "plt.yticks(fontsize=8, color=\"blue\")\n",
    "plt.ylabel('Tiempos medios de viaje [min] ')\n",
    "\n",
    "# Formato de separación de miles en el eje y\n",
    "fmt = '{x:,.0f}'\n",
    "tick = mtick.StrMethodFormatter(fmt)\n",
    "plt.gca().yaxis.set_major_formatter(tick)\n",
    "\n",
    "plt.title('Tiempos medios de viajes por día año 2022', color='blue')\n",
    "plt.show()"
   ]
  },
  {
   "cell_type": "markdown",
   "id": "4733b66b-09d6-4b02-826a-e8e708551410",
   "metadata": {},
   "source": [
    "### Gráfico viajes por día y usuarios (Series)\n",
    "Cantidad de viajes por tipo de usuarios en los días de la semana"
   ]
  },
  {
   "cell_type": "code",
   "execution_count": 36,
   "id": "2d461fb6-2693-4cb9-ad70-0ea0b438d1ba",
   "metadata": {},
   "outputs": [
    {
     "data": {
      "image/png": "[encoded data removed]",
      "text/plain": [
       "<Figure size 640x480 with 1 Axes>"
      ]
     },
     "metadata": {},
     "output_type": "display_data"
    }
   ],
   "source": [
    "import numpy as np\n",
    "\n",
    "x = summary_day.index.tolist()\n",
    "\n",
    "#### SE usa analogía SQL aplicada a Pandas\n",
    "# SELECT count FROM summay WHERE member_casual = 'member'\n",
    "y1= summary.loc[summary['member_casual'] == 'casual', 'count']\n",
    "\n",
    "# SELECT count FROM summay WHERE member_casual = 'member'\n",
    "y2= summary.loc[summary['member_casual'] == 'member', 'count']\n",
    "\n",
    "#  Arreglo para las posiciones en el eje x de las barras\n",
    "posiciones = np.arange(len(y1))\n",
    "# Ancho de las barras\n",
    "ancho = 0.35\n",
    "\n",
    "# Crear las barras para cada serie\n",
    "plt.bar(posiciones - ancho/2, y1, width=ancho, label='Casual', color=\"green\", alpha=0.5)\n",
    "plt.bar(posiciones + ancho/2, y2, width=ancho, label='Member', color=\"red\", alpha=0.5)\n",
    "\n",
    "# Agregar etiquetas en el eje x\n",
    "plt.xticks(posiciones, x)\n",
    "\n",
    "# Etiquetas ejes ok\n",
    "plt.xlabel('Días')\n",
    "plt.xticks(fontsize=8, color=\"blue\", rotation=25)\n",
    "\n",
    "plt.ylabel('Número de viajes')\n",
    "plt.yticks(fontsize=8, color=\"blue\")\n",
    "\n",
    "plt.title('Viajes por día y tipo de usuario', color='blue')\n",
    "\n",
    "# Formato de separación de miles en el eje y\n",
    "fmt = '{x:,.0f}'\n",
    "tick = mtick.StrMethodFormatter(fmt)\n",
    "plt.gca().yaxis.set_major_formatter(tick)\n",
    "\n",
    "plt.legend()\n",
    "plt.show()\n"
   ]
  },
  {
   "cell_type": "markdown",
   "id": "4e930476-e242-4bd8-b7ab-bcc351f73bc8",
   "metadata": {
    "tags": []
   },
   "source": [
    "### Gráfico: Tiempos de viaje promedio por día y tipo usuarios (Series)\n",
    "Tiempos medios en minutos."
   ]
  },
  {
   "cell_type": "code",
   "execution_count": 37,
   "id": "33466276-d80e-4ecf-afbf-e672e93590a1",
   "metadata": {},
   "outputs": [
    {
     "data": {
      "image/png": "[encoded data removed]",
      "text/plain": [
       "<Figure size 640x480 with 1 Axes>"
      ]
     },
     "metadata": {},
     "output_type": "display_data"
    }
   ],
   "source": [
    "# Tiempos promedios por tipo de usuario\n",
    "x = summary_day.index.tolist()\n",
    "\n",
    "#### SE usa analogía SQL aplicada a Pandas\n",
    "# SELECT count FROM summay WHERE member_casual = 'member'\n",
    "y1= summary.loc[summary['member_casual'] == 'casual', 'mean']\n",
    "\n",
    "# SELECT count FROM summay WHERE member_casual = 'member'\n",
    "y2= summary.loc[summary['member_casual'] == 'member', 'mean']\n",
    "\n",
    "#  Arreglo para las posiciones en el eje x de las barras\n",
    "posiciones = np.arange(len(y1))\n",
    "# Ancho de las barras\n",
    "ancho = 0.35\n",
    "\n",
    "# Crear las barras para cada serie\n",
    "plt.bar(posiciones - ancho/2, y1, width=ancho, label='Casual', color=\"lime\", alpha=0.5)\n",
    "plt.bar(posiciones + ancho/2, y2, width=ancho, label='Member', color=\"magenta\", alpha=0.5)\n",
    "\n",
    "# Agregar etiquetas en el eje x\n",
    "plt.xticks(posiciones, x)\n",
    "\n",
    "# Etiquetas ejes ok\n",
    "plt.xlabel('Días')\n",
    "plt.xticks(fontsize=8, color=\"blue\", rotation=25)\n",
    "\n",
    "plt.ylabel('Tiempos medios [min]')\n",
    "plt.yticks(fontsize=8, color=\"blue\")\n",
    "\n",
    "plt.title('Tiempos medios de viaje, por día y tipo de usuario', color='blue')\n",
    "\n",
    "# Formato de separación de miles en el eje y\n",
    "fmt = '{x:,.0f}'\n",
    "tick = mtick.StrMethodFormatter(fmt)\n",
    "plt.gca().yaxis.set_major_formatter(tick)\n",
    "\n",
    "plt.legend()\n",
    "plt.show()\n"
   ]
  },
  {
   "cell_type": "markdown",
   "id": "13f4fdb3-74b6-470c-992b-2bf4f0d8ced2",
   "metadata": {},
   "source": [
    "## Análisis y principales 'INSIGHTS'\n",
    "\n",
    "### Cantidad de viajes por día.  \n",
    "\n",
    "**Casual:**\n",
    "La cantidad viajes de estos usuarios en los días viernes y sábados, está por encima sobre el resto de los días de la semana.  \n",
    "Viernes y sábado representa: 20,7% y 17,0% respectivamente.  \n",
    "\n",
    "**INSIGHT:** Crear promoción campaña con oferta para estos días, incentivando membresía.  \n",
    "\n",
    "\n",
    "**Member:**  \n",
    "Estos usuarios hacen uso mayor de viajes los días: lunes, martes y miércoles. Domingo es el día de menor uso.  \n",
    "\n",
    "\n",
    "### Tiempos de Viaje.  \n",
    "\n",
    "**Casual:**  \n",
    "Estos usuarios casi doblan el tiempo de viaje (promedio), de los usuarios que tienen membresía anual.\n",
    "\n",
    "**INSIGHT:** Esto es un punto importante, ya que se puede apuntar a que el usuario podría ahorrar al obtener una membresía anual. Sus viajes podrían ser más económicos.  \n",
    "\n",
    "\n",
    "**Ahorro usuario casual:**. \n",
    "Sería interesante tener el valor del costo por minuto de viaje de los usuarios casuales.\n",
    "Con esto se podría contrastar cuanto podrían ahorrar con una membresía anual. Ya que los viajes en tiempo son casi en doble de lo que pasa un usuario con membresía anual.\n"
   ]
  },
  {
   "cell_type": "markdown",
   "id": "3a171871-39de-43c6-befe-770c715289a1",
   "metadata": {},
   "source": [
    "\n",
    "======================================\n",
    "#### Exportación de resumen para mas análisis"
   ]
  },
  {
   "cell_type": "code",
   "execution_count": 38,
   "id": "e5980253-4dbd-41c9-ad24-9ad66925c5cc",
   "metadata": {},
   "outputs": [
    {
     "name": "stdout",
     "output_type": "stream",
     "text": [
      "Archivo exportado exitosamente:/Users/goyo/workspace/DataScience/Google/8_Proyecto/CSV/quarters/Final_summary_dyvvi.csv\n"
     ]
    }
   ],
   "source": [
    "# Se exporta y guarda como CSV\n",
    "\n",
    "file_out = os.getcwd() + \"/CSV/quarters/Final_summary_dyvvi.csv\"\n",
    "\n",
    "summary.to_csv(file_out)\n",
    "print(\"Archivo exportado exitosamente:\" + file_out)"
   ]
  },
  {
   "cell_type": "markdown",
   "id": "a62328a6-0dff-4e97-803b-d0193008b5fb",
   "metadata": {},
   "source": [
    "[Ir a compartir](#share-section)\n"
   ]
  },
  {
   "cell_type": "markdown",
   "id": "ace2b427-adb3-48b6-b9a7-2811d65b8684",
   "metadata": {},
   "source": [
    "<a id='share-section'></a>\n",
    "\n",
    "## PARTE 7: Share\n",
    "Ver enlaces a fuentes externas de reportes.\n"
   ]
  },
  {
   "cell_type": "markdown",
   "id": "139b8e32-fdae-43ab-8f81-4a2035fda9fd",
   "metadata": {},
   "source": [
    "\n"
   ]
  }
 ],
 "metadata": {
  "kernelspec": {
   "display_name": "Python 3 (ipykernel)",
   "language": "python",
   "name": "python3"
  },
  "language_info": {
   "codemirror_mode": {
    "name": "ipython",
    "version": 3
   },
   "file_extension": ".py",
   "mimetype": "text/x-python",
   "name": "python",
   "nbconvert_exporter": "python",
   "pygments_lexer": "ipython3",
   "version": "3.9.13"
  }
 },
 "nbformat": 4,
 "nbformat_minor": 5
}
